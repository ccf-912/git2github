{
  "nbformat": 4,
  "nbformat_minor": 0,
  "metadata": {
    "colab": {
      "provenance": []
    },
    "kernelspec": {
      "name": "python3",
      "display_name": "Python 3"
    },
    "language_info": {
      "name": "python"
    }
  },
  "cells": [
    {
      "cell_type": "markdown",
      "source": [
        "## Program-01"
      ],
      "metadata": {
        "id": "Rp34YPG8JOZm"
      }
    },
    {
      "cell_type": "code",
      "execution_count": null,
      "metadata": {
        "id": "wJOK2PrYnEBK"
      },
      "outputs": [],
      "source": [
        "# 使用者輸入姓名後，電腦回應使用者\n",
        "name = input('你的名字是？')\n",
        "print(f'Hi, {name}！ 一起來當py郎~~')"
      ]
    },
    {
      "cell_type": "markdown",
      "source": [
        "| 命名類型   | 命名規則                             |\n",
        "|:----------:|:------------------------------------:|\n",
        "| 變數、函式       | 使用小寫字母，單詞之間用底線分隔 (例如 `my_variable`) |\n",
        "| 常數       | 使用全大寫字母，單詞之間用底線分隔 (例如 `MY_CONSTANT`) |\n",
        "| 類別       | 使用駝峰式命名法 (CamelCase) (例如 `MyClass`) |\n",
        "| 模組、套件       | 使用小寫字母，單詞之間用底線分隔 (例如 `my_module`) |\n",
        "\n",
        "**底線開頭或結尾的名稱在python中有特殊用途，應避開這些特殊命名方式。**"
      ],
      "metadata": {
        "id": "KNmF7XuoiD2T"
      }
    },
    {
      "cell_type": "code",
      "source": [
        "# 列出keyword, keyword不能當作變數名稱\n",
        "import keyword\n",
        "print(keyword.kwlist)"
      ],
      "metadata": {
        "id": "CsNWrMuWgq-H"
      },
      "execution_count": null,
      "outputs": []
    },
    {
      "cell_type": "code",
      "source": [
        "# 查詢函式print用法\n",
        "help(print)"
      ],
      "metadata": {
        "id": "LK33jchTgK7d"
      },
      "execution_count": null,
      "outputs": []
    },
    {
      "cell_type": "markdown",
      "source": [
        "| 跳脫序列(Escape Sequence) | 說明             |\n",
        "|:---------------:|:----------------:|\n",
        "| `\\\\`           | 反斜線           |\n",
        "| `\\'`           | 單引號           |\n",
        "| `\\\"`           | 雙引號           |\n",
        "| `\\n`           | 換行             |\n",
        "| `\\t`           | 水平製表符(Tab)       |\n",
        "| `\\r`           | 回車             |\n",
        "| `\\b`           | 退格             |\n",
        "| `\\f`           | 垂直製表符       |\n",
        "| `\\a`           | 鈴聲             |\n",
        "| `\\v`           | 垂直製表符       |\n",
        "| `\\ooo`         | 八進位數字      |\n",
        "| `\\xhh`         | 十六進位數字    |"
      ],
      "metadata": {
        "id": "raqIXfuHbxbS"
      }
    },
    {
      "cell_type": "markdown",
      "source": [
        "## Program-02"
      ],
      "metadata": {
        "id": "pEwjDQwkJWhB"
      }
    },
    {
      "cell_type": "markdown",
      "source": [
        "| Operator | 說明                     |\n",
        "|:--------:|:------------------------:|\n",
        "| `+`      | 加法                     |\n",
        "| `-`      | 減法                     |\n",
        "| `*`      | 乘法                     |\n",
        "| `/`      | 除法                     |\n",
        "| `//`     | 整數除法（向下取整）     |\n",
        "| `%`      | 取餘數                   |\n",
        "| `**`     | 指數（冪）               |"
      ],
      "metadata": {
        "id": "_sdVtpGyftAw"
      }
    },
    {
      "cell_type": "code",
      "source": [
        "num_1 = float(input('輸入第一個數字：'))\n",
        "num_2 = float(input('輸入第二個數字：'))\n",
        "print(f'{num_1} + {num_2} = {num_1 + num_2}')\n",
        "print(f'{num_1} - {num_2} = {num_1 - num_2}')\n",
        "print(f'{num_1} * {num_2} = {num_1 * num_2}')\n",
        "print(f'{num_1} / {num_2} = {num_1 / num_2}')"
      ],
      "metadata": {
        "id": "VXdHjN0Mo7R9",
        "colab": {
          "base_uri": "https://localhost:8080/"
        },
        "outputId": "d686c63a-03a2-4cc4-bdf4-731277f25f51"
      },
      "execution_count": null,
      "outputs": [
        {
          "output_type": "stream",
          "name": "stdout",
          "text": [
            "輸入第一個數字：8\n",
            "輸入第二個數字：3\n",
            "8.0 + 3.0 = 11.0\n",
            "8.0 - 3.0 = 5.0\n",
            "8.0 * 3.0 = 24.0\n",
            "8.0 / 3.0 = 2.6666666666666665\n"
          ]
        }
      ]
    },
    {
      "cell_type": "markdown",
      "source": [
        "| 格式規範               | 說明                               |\n",
        "|----------------------|----------------------------------|\n",
        "| **format_spec**      |[**align**][**+**][**#**][**0**][**width**][**,**][**.precision**][**type**] |\n",
        "| **align**            | `<` (靠左)、`^` (置中)、`>` (靠右) |\n",
        "| **+**                | 正、負號                           |\n",
        "| **#**                | `0b` (2進位)、`0o` (8進位)、`0x` (16進位) |\n",
        "| **0**                | 數字左邊空欄位補 0                 |\n",
        "| **width**            | 字元寬度                           |\n",
        "| **,**                | 千分位符號                         |\n",
        "| **.precision**       | 小數點下位數                       |\n",
        "| **type**             | `s` (字串)、`d` (整數)、`f` (浮點數)、`b` (2進位)、`o` (8進位)、`x` (16進位) |"
      ],
      "metadata": {
        "id": "p3h0Kk6bYYhq"
      }
    },
    {
      "cell_type": "code",
      "source": [
        "a = float(input('輸入第一個數字：'))\n",
        "b = float(input('輸入第二個數字：'))\n",
        "if a > b:\n",
        "    print(f'{a} > {b}')\n",
        "elif a < b:\n",
        "    print(f'{a} < {b}')\n",
        "else:\n",
        "    print(f'{a} = {b}')"
      ],
      "metadata": {
        "colab": {
          "base_uri": "https://localhost:8080/"
        },
        "id": "38PkUu9BapRK",
        "outputId": "51cbc346-a3f0-4006-d27a-e8ad78afcd14"
      },
      "execution_count": null,
      "outputs": [
        {
          "output_type": "stream",
          "name": "stdout",
          "text": [
            "輸入第一個數字：8.3\n",
            "輸入第二個數字：2.9\n",
            "8.3 > 2.9\n",
            "\n",
            "\n",
            "輸入第一個數字：4.7\n",
            "輸入第二個數字：5.6\n",
            "4.7 < 5.6\n",
            "\n",
            "\n",
            "輸入第一個數字：5\n",
            "輸入第二個數字：5.0\n",
            "5.0 = 5.0\n"
          ]
        }
      ]
    },
    {
      "cell_type": "code",
      "source": [],
      "metadata": {
        "id": "48_V2UOx7vVU"
      },
      "execution_count": null,
      "outputs": []
    },
    {
      "cell_type": "markdown",
      "source": [
        "| Operator | 說明                     |\n",
        "|:--------:|:------------------------:|\n",
        "| `==`     | 等於                   |\n",
        "| `!=`     | 不等於                   |\n",
        "| `>`      | 大於                     |\n",
        "| `<`      | 小於                     |\n",
        "| `>=`     | 大於或等於               |\n",
        "| `<=`     | 小於或等於               |"
      ],
      "metadata": {
        "id": "hWmMorjg7vnr"
      }
    },
    {
      "cell_type": "code",
      "source": [
        "def http_error(status):\n",
        "    match status:\n",
        "        case 400:\n",
        "            return \"Bad request\"\n",
        "        case 404:\n",
        "            return \"Not found\"\n",
        "        case 418:\n",
        "            return \"I'm a teapot\"\n",
        "        case _:\n",
        "            return \"Something's wrong with the internet\""
      ],
      "metadata": {
        "id": "w3p87qp5TSYi"
      },
      "execution_count": null,
      "outputs": []
    },
    {
      "cell_type": "code",
      "source": [
        "http_error(418)"
      ],
      "metadata": {
        "colab": {
          "base_uri": "https://localhost:8080/",
          "height": 35
        },
        "id": "S7CgBZQsTUTr",
        "outputId": "69073d92-2561-49ac-ac3c-fe0931239a93"
      },
      "execution_count": null,
      "outputs": [
        {
          "output_type": "execute_result",
          "data": {
            "text/plain": [
              "\"I'm a teapot\""
            ],
            "application/vnd.google.colaboratory.intrinsic+json": {
              "type": "string"
            }
          },
          "metadata": {},
          "execution_count": 7
        }
      ]
    },
    {
      "cell_type": "code",
      "source": [
        "grade = 30\n",
        "print('及格' if grade >= 60 else '不及格')"
      ],
      "metadata": {
        "colab": {
          "base_uri": "https://localhost:8080/"
        },
        "id": "m8eOStUlTbLS",
        "outputId": "4b8477fb-1f66-45fc-c163-70fd76f1424b"
      },
      "execution_count": null,
      "outputs": [
        {
          "output_type": "stream",
          "name": "stdout",
          "text": [
            "不及格\n"
          ]
        }
      ]
    },
    {
      "cell_type": "code",
      "source": [],
      "metadata": {
        "id": "mkzIiJiaUJ5i"
      },
      "execution_count": null,
      "outputs": []
    }
  ]
}